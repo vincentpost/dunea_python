{
 "cells": [
  {
   "cell_type": "code",
   "execution_count": null,
   "id": "7ddfa827-84d0-49b3-8c23-6a716ad40541",
   "metadata": {},
   "outputs": [],
   "source": [
    "# Import some packages that we need\n",
    "import matplotlib.pyplot as plt\n",
    "import numpy as np\n",
    "\n",
    "import flopy as fp\n",
    "\n",
    "plt.rcParams[\"figure.autolayout\"] = True # Produces better figures"
   ]
  },
  {
   "cell_type": "markdown",
   "id": "ee22f772-8f6c-4abc-af5f-e44b8449d8ae",
   "metadata": {},
   "source": [
    "# Groundwater Modelling in Python\n",
    "\n",
    "## Analytical solutions\n",
    "\n",
    "The Theis solution is a famous formula in groundwater hydrology to compute the drawdown around a well in a confined aquifer. The aquifer is approximated as fully-confined and the transmissivity $T$ and storage coefficient $S$ are approximated as constant. The well extraction rate is $Q$."
   ]
  },
  {
   "cell_type": "markdown",
   "id": "8db23802-f17a-42de-b610-6fc6d0ef5bd0",
   "metadata": {
    "tags": []
   },
   "source": [
    "The solution for a well that starts pumping at $t=0$ is\n",
    "\\begin{equation}\n",
    "h = - \\frac{Q}{4\\pi T}\\text{E}_1\\left( u\\right) {\\hskip 2em} t\\ge t_0\n",
    "\\end{equation}\n",
    "where\n",
    "\\begin{equation}\n",
    "u =  \\frac{S r^2}{4Tt}\n",
    "\\end{equation}\n",
    "and $\\text{E}_1$ is the exponential integral\n",
    "\\begin{equation}\n",
    "\\text{E}_1(u) = \\int_u^{\\infty} \\frac{\\exp(-s)}{s}\\text{d} s \n",
    "\\end{equation}\n",
    "\n",
    "Because the pumped water can only come from storage in the fully confined aquifer, the Theis solution does not reach steady state. It is only suitable to analyze the early stages of a pumping test, before other sources of water (i.e. from an overlying aquifer) start to contribute significantly to the well flow. \n",
    "\n",
    "The following code cell shows how the Theis solution is implemented in Python"
   ]
  },
  {
   "cell_type": "code",
   "execution_count": null,
   "id": "5355c2b9-afbc-43c7-84b2-8874ffbc0bae",
   "metadata": {},
   "outputs": [],
   "source": [
    "from scipy.special import exp1 # Import the exponential integral from SciPy\n",
    "\n",
    "# Implement the formula as a function\n",
    "def theis(r, t, T, S, Q):\n",
    "    u = S * r ** 2 / (4 * T * t)\n",
    "    return -Q / (4 * np.pi * T) * exp1(u)"
   ]
  },
  {
   "cell_type": "markdown",
   "id": "52ee4015",
   "metadata": {},
   "source": [
    "Next, set the numerical values for the parameters"
   ]
  },
  {
   "cell_type": "code",
   "execution_count": null,
   "id": "179aac70-50bf-49f4-9a66-a4a8ff3c03c5",
   "metadata": {
    "tags": []
   },
   "outputs": [],
   "source": [
    "# parameters\n",
    "k = 10  # hydraulic conductivity, m/d\n",
    "H = 10  # aquifer thickness, m\n",
    "T = k * H  # transmissivity of aquifer, m^2/d\n",
    "S = 0.001  # storage coefficient of aquifer, -\n",
    "Q = 800  # discharge of well, m^3/d\n",
    "rw = 0.3  # radius of well, m"
   ]
  },
  {
   "cell_type": "markdown",
   "id": "c7904d6d",
   "metadata": {},
   "source": [
    "We'll plot two graphs: One with the head as a function of distance from the well after $t = 0.5$ day, and one that shows the head as a function of time at a distance of $r = 40$ m."
   ]
  },
  {
   "cell_type": "code",
   "execution_count": null,
   "id": "0b94157f",
   "metadata": {},
   "outputs": [],
   "source": [
    "fig, axs = plt.subplots(ncols=2, figsize=(8, 4))\n",
    "\n",
    "ax = axs[0]\n",
    "r = np.linspace(rw, 1000, 100) # radial distance from the well, m\n",
    "t = 0.5 # time, d\n",
    "h_theis = theis(r, t, T, S, Q)\n",
    "ax.plot(r, h_theis, label=\"Theis, 0.5 d\")\n",
    "\n",
    "ax.grid()\n",
    "ax.legend()\n",
    "ax.set_xlabel(\"$r$ (m)\")\n",
    "ax.set_ylabel(\"head (m)\")\n",
    "ax.set_xlim(0, 500)\n",
    "ax.set_ylim(-5, 0)\n",
    "\n",
    "ax = axs[1]\n",
    "\n",
    "r = 40 # m\n",
    "t = np.logspace(-3, np.log10(12 / 24), 100)\n",
    "h_theis = theis(r, t, T, S, Q)\n",
    "ax.semilogx(t, h_theis, label=\"Theis, $r=40$ m\")\n",
    "\n",
    "ax.grid()\n",
    "ax.legend()\n",
    "ax.set_xlabel(\"time (d)\")\n",
    "ax.set_ylabel(\"head (m)\")\n",
    "ax.set_ylim(-3, 0);"
   ]
  },
  {
   "cell_type": "markdown",
   "id": "31b6247f-35f8-4cb9-ac0b-807470919d43",
   "metadata": {},
   "source": [
    "Let's now try to model the Theis solution in MODFLOW 6. The first step in creating a MODFLOW 6 model is to create the simulation. "
   ]
  },
  {
   "cell_type": "code",
   "execution_count": null,
   "id": "f35db730-13a1-4f0c-9ac0-93b1a3d1bbcf",
   "metadata": {},
   "outputs": [],
   "source": [
    "modelname = \"model_theis\"  # model name to be used\n",
    "modelws = \"./model_theis\"  # model work space to be used\n",
    "\n",
    "sim = fp.mf6.MFSimulation(\n",
    "    sim_name=modelname,  # name of simulation\n",
    "    sim_ws=modelws,  # path to workspace where all files are stored\n",
    "    exe_name=\"../bin/mf6.exe\",  # path to MODFLOW executable\n",
    ")"
   ]
  },
  {
   "cell_type": "markdown",
   "id": "6075eb9e-01d4-4444-9305-9c6fdf490db3",
   "metadata": {},
   "source": [
    "The next step is to discretize the time. For an accurate solution it is important to accurately resolve the earliest times after the pumping starts. This is achieved by using 20 irregular time steps by setting the time step multiplier to 1.2."
   ]
  },
  {
   "cell_type": "code",
   "execution_count": null,
   "id": "35652607-d4e4-4fd5-be0b-c8ce91965d70",
   "metadata": {},
   "outputs": [],
   "source": [
    "perlen = 0.5  # stress period length, d\n",
    "nstp = 20  # number of time steps\n",
    "tsmult = 1.2  # time step multiplier\n",
    "\n",
    "tdis = fp.mf6.ModflowTdis(\n",
    "    simulation=sim,\n",
    "    time_units=\"DAYS\",\n",
    "    nper=1,  # number of stress periods\n",
    "    perioddata=[(perlen, nstp, tsmult)],\n",
    ")"
   ]
  },
  {
   "cell_type": "markdown",
   "id": "99a6a7d6-430b-452a-b5bd-7df98ce5b670",
   "metadata": {},
   "source": [
    "The function `ModflowIms` defines the solver settings. There are many parameters that can be tweaked but for this demo, we'll just use the defaults."
   ]
  },
  {
   "cell_type": "code",
   "execution_count": null,
   "id": "ac688fd6-f9f5-4e4c-a13a-64e0c1c12f31",
   "metadata": {},
   "outputs": [],
   "source": [
    "ims = fp.mf6.ModflowIms(\n",
    "    sim,\n",
    ")"
   ]
  },
  {
   "cell_type": "markdown",
   "id": "6fc1f9bc-9d49-4874-82f5-200f6ad60ed3",
   "metadata": {},
   "source": [
    "Creating the groundwater flow model is done by calling the `ModflowGwf` function. The simulation to which the model belongs must always be specified."
   ]
  },
  {
   "cell_type": "code",
   "execution_count": null,
   "id": "420e597a-44c2-4c3e-a16c-0f637c17dd7a",
   "metadata": {},
   "outputs": [],
   "source": [
    "gwf = fp.mf6.ModflowGwf(\n",
    "    simulation=sim,\n",
    "    modelname=modelname,  # model name\n",
    ")"
   ]
  },
  {
   "cell_type": "markdown",
   "id": "b108da90-2793-4a73-baef-af8b44531ec9",
   "metadata": {},
   "source": [
    "A challenge in setting up the numerical model is to determine the extent of the model domain. The Theis function is for a semi-infinite aquifer, but in MODFLOW 6 we obviously have a finite model extent. By playing around with the analytical solution, it can be determined that it is sufficient to extend the model 1000 m away from the well. We choose a model extent of 2040 m and start out with a cell size of 40 m, with the well placed in the central model cell."
   ]
  },
  {
   "cell_type": "code",
   "execution_count": null,
   "id": "0133630e-cdc9-4735-8830-71267a71a427",
   "metadata": {},
   "outputs": [],
   "source": [
    "Lx = 2040  # West-East length of domain, m\n",
    "Ly = 2040  # North-South length of domain, m\n",
    "\n",
    "# Well location\n",
    "xwell = Lx / 2\n",
    "ywell = Ly / 2"
   ]
  },
  {
   "cell_type": "markdown",
   "id": "1f413e65-92ee-4ef2-9a7b-4e38320e877c",
   "metadata": {},
   "source": [
    "A grid of 51 rows and 51 columns is used, resulting in the desired cell size of 40 m in both the row and column directions. The top of the aquifer is at 0 meters, so the bottom is at -10 m."
   ]
  },
  {
   "cell_type": "code",
   "execution_count": null,
   "id": "46e695d3-149b-46ed-8239-932a8e8f5101",
   "metadata": {},
   "outputs": [],
   "source": [
    "# Layers\n",
    "nlay = 1  # number of layers\n",
    "top = 0  # top of top aquifer layer, m\n",
    "botm = top - H  # aquifer bottom, m\n",
    "\n",
    "# Grid properties\n",
    "ncol = 51  # number of columns\n",
    "nrow = 51  # number of rows\n",
    "delc = Ly / nrow  # cell size in column direction\n",
    "delr = Lx / ncol  # cell size in row direction\n",
    "\n",
    "dis = fp.mf6.ModflowGwfdis(\n",
    "    model=gwf,\n",
    "    length_units=\"METERS\",\n",
    "    nlay=nlay,\n",
    "    nrow=nrow,\n",
    "    ncol=ncol,\n",
    "    delr=delr,\n",
    "    delc=delc,\n",
    "    top=top,\n",
    "    botm=botm,\n",
    ")"
   ]
  },
  {
   "cell_type": "markdown",
   "id": "a5437a5a-f9bb-4b37-8975-48112161a6cc",
   "metadata": {},
   "source": [
    "Aquifer properties are defined with the `ModflowGwfnpf` function."
   ]
  },
  {
   "cell_type": "code",
   "execution_count": null,
   "id": "f85d97b6-b4fa-4428-a03d-effd8947159a",
   "metadata": {
    "tags": []
   },
   "outputs": [],
   "source": [
    "npf = fp.mf6.ModflowGwfnpf(\n",
    "    model=gwf,\n",
    "    k=k,  # horizontal k value\n",
    ")"
   ]
  },
  {
   "cell_type": "markdown",
   "id": "f43fef50-d09b-4c07-b807-8f877b683315",
   "metadata": {},
   "source": [
    "The storage package is invoked to simulate transient flow. Note how the storage coefficient is divided by the aquifer thickness because it is the specific storage coefficient that must be passed to `ModflowGwfsto`."
   ]
  },
  {
   "cell_type": "code",
   "execution_count": null,
   "id": "03106d76-9b77-464e-98af-d21751aafd2b",
   "metadata": {},
   "outputs": [],
   "source": [
    "sto = fp.mf6.ModflowGwfsto(\n",
    "    model=gwf,\n",
    "    ss=S / H, # Specific storage coefficient, 1/m\n",
    "    transient=True,\n",
    ")"
   ]
  },
  {
   "cell_type": "markdown",
   "id": "4d7af34f-c489-4e15-a73f-9dbf85a509cf",
   "metadata": {},
   "source": [
    "The function `ModflowGwfic` sets the intial conditions. Initially all heads are set equal to the top elevation (i.e., $h = 0$)."
   ]
  },
  {
   "cell_type": "code",
   "execution_count": null,
   "id": "6259f91a-9482-4402-9a48-66e458c2e6f7",
   "metadata": {},
   "outputs": [],
   "source": [
    "ic = fp.mf6.ModflowGwfic(\n",
    "    model=gwf,\n",
    "    strt=top,  # initial head,\n",
    ")"
   ]
  },
  {
   "cell_type": "markdown",
   "id": "43a707c0-1bd1-4a7c-9633-5e79d49935c0",
   "metadata": {},
   "source": [
    "The row and column numbers of the center cell (where the well is located) are found by dividing `nrow` and `ncol` by two. The two forward slashes indicate an integer division in Python, which ensures that the result of the division is also an integer number."
   ]
  },
  {
   "cell_type": "code",
   "execution_count": null,
   "id": "52dc8078-9257-42d2-895a-181e56f2df60",
   "metadata": {},
   "outputs": [],
   "source": [
    "rwell = nrow // 2  # results in an integer\n",
    "cwell = ncol // 2\n",
    "spd_list = [[(0, rwell, cwell), -Q]] # a nested list which contains one list per well with well location and pumping rate\n",
    "well_spd = {0: spd_list}  # dictionary of stress period data\n",
    "\n",
    "wel = fp.mf6.ModflowGwfwel(\n",
    "    model=gwf, \n",
    "    stress_period_data=well_spd,\n",
    ")"
   ]
  },
  {
   "cell_type": "markdown",
   "id": "fab3a8a5-d57a-4540-bfe3-d716b63eaa8d",
   "metadata": {},
   "source": [
    "Output control is specified using `ModflowGwfoc`."
   ]
  },
  {
   "cell_type": "code",
   "execution_count": null,
   "id": "c51e94d9-6cbf-4ab0-8e40-56402d369f34",
   "metadata": {},
   "outputs": [],
   "source": [
    "oc = fp.mf6.ModflowGwfoc(\n",
    "    model=gwf,  # add output control to model gwf (created in previous code cell)\n",
    "    budget_filerecord=f\"{modelname}.cbc\",  # file name where all budget output is stored\n",
    "    head_filerecord=f\"{modelname}.hds\",  # file name where all head output is stored\n",
    "    saverecord=[(\"HEAD\", \"ALL\"), (\"BUDGET\", \"ALL\")],\n",
    ")"
   ]
  },
  {
   "cell_type": "markdown",
   "id": "31acb314-1024-44c2-b0b9-651e54edde1f",
   "metadata": {},
   "source": [
    "Before running the model it is worthwhile to inspect the grid and make sure that the well is indeed in the correct location."
   ]
  },
  {
   "cell_type": "code",
   "execution_count": null,
   "id": "93ab1162-80fd-4ee7-ae06-d7c497dda426",
   "metadata": {},
   "outputs": [],
   "source": [
    "pmv = fp.plot.PlotMapView(model=gwf)  # create map view\n",
    "pmv.plot_bc(name=\"wel\")  # show well location\n",
    "pmv.plot_grid(colors=\"silver\", lw=1)"
   ]
  },
  {
   "cell_type": "markdown",
   "id": "cc856e04-cc50-4095-bc0b-701cc4cd4a28",
   "metadata": {},
   "source": [
    "We write the input files and run the model with the `silent` option set to `True` to reduce the amount of screen output."
   ]
  },
  {
   "cell_type": "code",
   "execution_count": null,
   "id": "3a2f8ec8-1aea-4946-8fc5-30a0ca5628bb",
   "metadata": {
    "tags": []
   },
   "outputs": [],
   "source": [
    "sim.write_simulation(silent=False)\n",
    "success, dummy = sim.run_simulation(silent=True)\n",
    "if success == True:\n",
    "    print(\"Model solved successfully\")\n",
    "else:\n",
    "    print(\"Solve failed\")"
   ]
  },
  {
   "cell_type": "markdown",
   "id": "f873f7e7-be34-4474-ad9a-7f3a1fab1d63",
   "metadata": {
    "tags": []
   },
   "source": [
    "Once the results are calculated we can read the binary head file"
   ]
  },
  {
   "cell_type": "code",
   "execution_count": null,
   "id": "5644b3d1-6b01-45b5-82ae-5e95f27abb15",
   "metadata": {
    "tags": []
   },
   "outputs": [],
   "source": [
    "hds = gwf.output.head()  # get handle to binary head file\n",
    "head = hds.get_data()\n",
    "times = hds.get_times()"
   ]
  },
  {
   "cell_type": "markdown",
   "id": "8ca6d19d-db14-4fbb-9b20-00856744d56e",
   "metadata": {},
   "source": [
    "In order the compare the numerical results with the analytic solution, the heads from the MODFLOW model are plotted as a function of $r$ at the end of the model simulation ($t = 0.5$ d). The lines are drawn as step plots to emphasize that this is the result from the numerical (discretized) model. The analytic solution is also included.\n",
    "\n",
    "In the right graph, the head is plotted versus time for the cell next to the extraction well (the head in the cell containing the well is not representative for the drawdown in the well, because of the much larger size of the model cell compared to the radius of the well)."
   ]
  },
  {
   "cell_type": "code",
   "execution_count": null,
   "id": "266e6161",
   "metadata": {},
   "outputs": [],
   "source": [
    "fig, axs = plt.subplots(ncols=2, figsize=(8, 4))\n",
    "\n",
    "ax = axs[0] # Selects the left graph\n",
    "\n",
    "# Plot the numerical solution\n",
    "r = np.arange(0, Lx / 2, delr)\n",
    "t = 0.5 # time, d\n",
    "ax.step(\n",
    "    r,\n",
    "    head[0, rwell, cwell:],\n",
    "    where=\"mid\",\n",
    "    color=\"C0\",\n",
    "    label=\"t = 0.5 d\",\n",
    ")\n",
    "\n",
    "# Plot the analytical solution\n",
    "h_theis = theis(r, t, T, S, Q)\n",
    "ax.plot(r, h_theis, color=\"C0\")\n",
    "\n",
    "# Prettify the graph\n",
    "ax.grid()\n",
    "ax.legend()\n",
    "ax.set_xlabel(\"$r$ (m)\")\n",
    "ax.set_ylabel(\"head (m)\")\n",
    "ax.set_xlim(0, Lx / 4)\n",
    "ax.set_ylim(-5, 0)\n",
    "\n",
    "ax = axs[1] # Selects the right graph\n",
    "\n",
    "# Plot the numerical solution\n",
    "ht = hds.get_ts([[0, rwell + 1, cwell]]) # Get a time series of the heads\n",
    "ax.semilogx(ht[:, 0], ht[:, 1], \"C2.\", label=\"MODFLOW 6\")\n",
    "\n",
    "# Plot the analytical solution\n",
    "h_theis = theis(delr, np.array(times), T, S, Q)\n",
    "ax.semilogx(times, h_theis, \"C2\", label=\"Theis, $r=40$ m\")\n",
    "\n",
    "# Prettify the graph\n",
    "ax.grid()\n",
    "ax.legend()\n",
    "ax.set_xlabel(\"time (d)\")\n",
    "ax.set_ylabel(\"head (m)\")\n",
    "ax.set_ylim(-3, 0);"
   ]
  },
  {
   "cell_type": "markdown",
   "id": "4a535e24",
   "metadata": {},
   "source": [
    "Another way to visualize the result is to  plot the head contours at the end of the simulation"
   ]
  },
  {
   "cell_type": "code",
   "execution_count": null,
   "id": "a3248509",
   "metadata": {},
   "outputs": [],
   "source": [
    "pmv = fp.plot.PlotMapView(model=gwf, layer=0)\n",
    "pmv.plot_grid(colors=\"silver\", lw=1)\n",
    "cs = pmv.contour_array(  # contour plot of heads\n",
    "    head,\n",
    "    levels=np.arange(-5, 0.5, 0.2),\n",
    "    linewidths=1,\n",
    "    colors=\"k\",\n",
    "    linestyles=\"-\",\n",
    ")\n",
    "plt.clabel(cs, fmt=\"%1.1f\")  # add contour labels with one decimal place\n",
    "pmv.plot_bc(name=\"wel\")  # show well location\n",
    "\n",
    "plt.xlabel(\"x (m)\")\n",
    "plt.ylabel(\"y (m)\")\n",
    "plt.title(\"Head after 0.5 d\")\n",
    "plt.xlim(770, 1270)\n",
    "plt.ylim(770, 1270)"
   ]
  },
  {
   "cell_type": "code",
   "execution_count": null,
   "id": "0f020643",
   "metadata": {},
   "outputs": [],
   "source": []
  }
 ],
 "metadata": {
  "kernelspec": {
   "display_name": "mf6env",
   "language": "python",
   "name": "python3"
  },
  "language_info": {
   "codemirror_mode": {
    "name": "ipython",
    "version": 3
   },
   "file_extension": ".py",
   "mimetype": "text/x-python",
   "name": "python",
   "nbconvert_exporter": "python",
   "pygments_lexer": "ipython3",
   "version": "3.9.17"
  },
  "latex_envs": {
   "LaTeX_envs_menu_present": true,
   "autoclose": false,
   "autocomplete": true,
   "bibliofile": "biblio.bib",
   "cite_by": "apalike",
   "current_citInitial": 1,
   "eqLabelWithNumbers": true,
   "eqNumInitial": 1,
   "hotkeys": {
    "equation": "Ctrl-E",
    "itemize": "Ctrl-I"
   },
   "labels_anchors": false,
   "latex_user_defs": false,
   "report_style_numbering": false,
   "user_envs_cfg": false
  }
 },
 "nbformat": 4,
 "nbformat_minor": 5
}
