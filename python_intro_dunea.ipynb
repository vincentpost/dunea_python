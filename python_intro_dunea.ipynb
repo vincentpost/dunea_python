{
 "cells": [
  {
   "cell_type": "markdown",
   "id": "8eba06b9",
   "metadata": {},
   "source": [
    "# Python Basics for Waternet hydrologists part 0\n",
    "\n",
    "\n",
    "## About Python\n",
    "\n",
    "Python is an open source, object-oriented programming language used for both standalone programs and scripting applications. It was initially developed by Guido van Rossum, who named it after Monty Python's Flying Circus. Python is popular because it is one of the easiest programming languages to learn, but also because it has many extensions that make it suitable for an enormous range of applications. Other advantages are that it is open-source and runs on all major operating systems.\n",
    "\n",
    "Python is an interpreted language, which means that it is not necessary to compile code into binary machine language before a program can be ran. Instead, the commands are executed in an interpreter, which may be embedded in a web browser, as is the case when using Jupyter Notebooks.\n",
    "\n",
    "There are a few things that are worth mentioning upfront and these must be remembered at all times. First of all, Python is case sensitive, so a variable with the name `avariable` is not the same as `Avariable` or `AVARIABLE`. Second, systematic indentation is a feature of the Python language (this will be explained below). Third, Python starts counting at zero, not at one. This sometimes confuses people but it is not that different from the way we count time: The first hour of a day is also numbered zero!\n",
    "\n",
    "## Installation\n",
    "\n",
    "Python consists of the core language and comes with a comprehensive standard library. In addition, there are many third-party packages (or libraries). Scientists and engineers typically choose the Anaconda Python distribution because it includes many of the most useful package already.\n",
    "\n",
    "Another advantage is that the packages are easy to update, and that Anaconda will usually install without major hassles. To install Anaconda go to the website https://www.anaconda.com/products/individual and download the installer for your operating system. Once downloaded, double-click on the installer and follow the instructions."
   ]
  },
  {
   "cell_type": "markdown",
   "id": "e0feb847",
   "metadata": {},
   "source": [
    "## Using Python as a calculator\n",
    "First, let’s see how you can use Python as a calculator (the extra spaces are added to make the\n",
    "code more readable)"
   ]
  },
  {
   "cell_type": "code",
   "execution_count": 1,
   "id": "1a41519a",
   "metadata": {},
   "outputs": [
    {
     "data": {
      "text/plain": [
       "6"
      ]
     },
     "execution_count": 1,
     "metadata": {},
     "output_type": "execute_result"
    }
   ],
   "source": [
    "2 * 3"
   ]
  },
  {
   "cell_type": "markdown",
   "id": "9fa2ff22",
   "metadata": {},
   "source": [
    "The `**` operator raises a number to the power"
   ]
  },
  {
   "cell_type": "code",
   "execution_count": 2,
   "id": "14d3f4bf",
   "metadata": {},
   "outputs": [
    {
     "data": {
      "text/plain": [
       "8"
      ]
     },
     "execution_count": 2,
     "metadata": {},
     "output_type": "execute_result"
    }
   ],
   "source": [
    "2 ** 3"
   ]
  },
  {
   "cell_type": "markdown",
   "id": "e2eeaed5",
   "metadata": {},
   "source": [
    "Because `**` takes precendence over a negative sign, parentheses should be used to obtain the right\n",
    "outcome when exponentiating negative numbers. For example $−2^4 = 16$, which should not be\n",
    "entered as"
   ]
  },
  {
   "cell_type": "code",
   "execution_count": 3,
   "id": "4618b687",
   "metadata": {},
   "outputs": [
    {
     "data": {
      "text/plain": [
       "-16"
      ]
     },
     "execution_count": 3,
     "metadata": {},
     "output_type": "execute_result"
    }
   ],
   "source": [
    "-2 ** 4"
   ]
  },
  {
   "cell_type": "markdown",
   "id": "a7ba9b7d",
   "metadata": {},
   "source": [
    "but as"
   ]
  },
  {
   "cell_type": "code",
   "execution_count": 4,
   "id": "b953df8b",
   "metadata": {},
   "outputs": [
    {
     "data": {
      "text/plain": [
       "16"
      ]
     },
     "execution_count": 4,
     "metadata": {},
     "output_type": "execute_result"
    }
   ],
   "source": [
    "(-2) ** 4"
   ]
  },
  {
   "cell_type": "markdown",
   "id": "3fff1334",
   "metadata": {},
   "source": [
    "## Variables\n",
    "\n",
    "Unlike some other programming languages, the declaration of a variable in Python is very easy"
   ]
  },
  {
   "cell_type": "code",
   "execution_count": 5,
   "id": "bab229c7",
   "metadata": {},
   "outputs": [
    {
     "data": {
      "text/plain": [
       "int"
      ]
     },
     "execution_count": 5,
     "metadata": {},
     "output_type": "execute_result"
    }
   ],
   "source": [
    "a = 2\n",
    "type(a)"
   ]
  },
  {
   "cell_type": "markdown",
   "id": "8ca88588",
   "metadata": {},
   "source": [
    "Variable names cannot have spaces, and they can not start with a number. Remember that variable names are case sensitive. Some words are already reserved by Python itself and can't be used as variable names (for example `and`, `True`, `False`, and `lambda`).\n",
    "\n",
    "Common variable types in programming are \n",
    " - integers (whole numbers), \n",
    " - ﬂoating points (number with a fractional value), \n",
    " - string (represents text),\n",
    " - boolean (true or false)\n",
    " - complex numbers\n",
    "\n",
    "There is no need to specify the type of the variable. Python ﬁgures out the variable type itself.\n",
    "This doesn’t mean that you can be completely oblivious to the diﬀerent variable types. Errors may\n",
    "occur if you try to assign one variable type to another, or when you try to perform an operation\n",
    "with two diﬀerent variable types. For example, observe what happens when you try to add two\n",
    "plus two in the following way"
   ]
  },
  {
   "cell_type": "code",
   "execution_count": 7,
   "id": "2742aa28",
   "metadata": {},
   "outputs": [
    {
     "ename": "TypeError",
     "evalue": "can only concatenate str (not \"int\") to str",
     "output_type": "error",
     "traceback": [
      "\u001b[1;31m---------------------------------------------------------------------------\u001b[0m",
      "\u001b[1;31mTypeError\u001b[0m                                 Traceback (most recent call last)",
      "Cell \u001b[1;32mIn[7], line 2\u001b[0m\n\u001b[0;32m      1\u001b[0m c \u001b[38;5;241m=\u001b[39m \u001b[38;5;124m'\u001b[39m\u001b[38;5;124mtwo\u001b[39m\u001b[38;5;124m'\u001b[39m\n\u001b[1;32m----> 2\u001b[0m c \u001b[38;5;241m+\u001b[39m \u001b[38;5;241m2\u001b[39m\n",
      "\u001b[1;31mTypeError\u001b[0m: can only concatenate str (not \"int\") to str"
     ]
    }
   ],
   "source": [
    "c = 'two'\n",
    "c + 2"
   ]
  },
  {
   "cell_type": "markdown",
   "id": "f50d3d88",
   "metadata": {},
   "source": [
    "When you type a variable name in the last line of a code cell, Python writes its value to the screen"
   ]
  },
  {
   "cell_type": "code",
   "execution_count": 8,
   "id": "b0443322",
   "metadata": {},
   "outputs": [
    {
     "data": {
      "text/plain": [
       "2"
      ]
     },
     "execution_count": 8,
     "metadata": {},
     "output_type": "execute_result"
    }
   ],
   "source": [
    "a"
   ]
  },
  {
   "cell_type": "markdown",
   "id": "18d727c8",
   "metadata": {},
   "source": [
    "If you want to print a variable to the screen at any given line in the code cell, use `print`"
   ]
  },
  {
   "cell_type": "code",
   "execution_count": 9,
   "id": "703799e1",
   "metadata": {},
   "outputs": [
    {
     "name": "stdout",
     "output_type": "stream",
     "text": [
      "2\n"
     ]
    }
   ],
   "source": [
    "print(a)"
   ]
  },
  {
   "cell_type": "markdown",
   "id": "084ef627",
   "metadata": {},
   "source": [
    "The arithmetic operators from the previous section can be used with variables in the same way as\n",
    "with numbers"
   ]
  },
  {
   "cell_type": "code",
   "execution_count": 10,
   "id": "70b61240",
   "metadata": {},
   "outputs": [
    {
     "data": {
      "text/plain": [
       "6"
      ]
     },
     "execution_count": 10,
     "metadata": {},
     "output_type": "execute_result"
    }
   ],
   "source": [
    "b = 3\n",
    "a * b"
   ]
  },
  {
   "cell_type": "markdown",
   "id": "8573fd45",
   "metadata": {},
   "source": [
    "instead of displaying the result on the screen, it can be stored in a new variable"
   ]
  },
  {
   "cell_type": "code",
   "execution_count": 11,
   "id": "f29376ef",
   "metadata": {},
   "outputs": [
    {
     "data": {
      "text/plain": [
       "6"
      ]
     },
     "execution_count": 11,
     "metadata": {},
     "output_type": "execute_result"
    }
   ],
   "source": [
    "c = a * b\n",
    "c"
   ]
  },
  {
   "cell_type": "markdown",
   "id": "da15c068",
   "metadata": {},
   "source": [
    "If needed, variables can be converted from one data type to another. For example, to convert an\n",
    "`integer` to a `float`"
   ]
  },
  {
   "cell_type": "code",
   "execution_count": 12,
   "id": "2911a337",
   "metadata": {},
   "outputs": [
    {
     "data": {
      "text/plain": [
       "2.0"
      ]
     },
     "execution_count": 12,
     "metadata": {},
     "output_type": "execute_result"
    }
   ],
   "source": [
    "a = 2\n",
    "b = float(a)\n",
    "b"
   ]
  },
  {
   "cell_type": "markdown",
   "id": "66ab9541",
   "metadata": {},
   "source": [
    "### Strings\n",
    "\n",
    "Python provides many options for manipulating strings. Strings are created by characters enclosed in either single  or double quotes. Both are fine as long as they are not mixed."
   ]
  },
  {
   "cell_type": "code",
   "execution_count": 14,
   "id": "14534d80",
   "metadata": {},
   "outputs": [
    {
     "name": "stdout",
     "output_type": "stream",
     "text": [
      "Hello world!\n"
     ]
    }
   ],
   "source": [
    "my_string = \"Hello world!\"\n",
    "print(my_string)"
   ]
  },
  {
   "cell_type": "markdown",
   "id": "c7821a0f",
   "metadata": {
    "hideCode": false,
    "hidePrompt": false
   },
   "source": [
    "Strings are a special variable class in Python, which means that a string object has several functions that can be accessed by typing a dot directly behind it and typing the name of the function. For example, the `find` function searches for a substring within the string. It returns the zero-based index of the starting position of the substring, which is 6 (the 7th character!) in 'Hello world!'"
   ]
  },
  {
   "cell_type": "code",
   "execution_count": 15,
   "id": "da9d4339",
   "metadata": {
    "hideCode": false,
    "hidePrompt": false
   },
   "outputs": [
    {
     "data": {
      "text/plain": [
       "6"
      ]
     },
     "execution_count": 15,
     "metadata": {},
     "output_type": "execute_result"
    }
   ],
   "source": [
    "my_string.find('world')"
   ]
  },
  {
   "cell_type": "markdown",
   "id": "962f3e49",
   "metadata": {
    "hideCode": false,
    "hidePrompt": false
   },
   "source": [
    "If the substring does not exist, the function returns `-1`. The function is case sensitive, so it will not be able to find 'WORLD'"
   ]
  },
  {
   "cell_type": "code",
   "execution_count": 16,
   "id": "3aeb9f3f",
   "metadata": {
    "hideCode": false,
    "hidePrompt": false
   },
   "outputs": [
    {
     "data": {
      "text/plain": [
       "-1"
      ]
     },
     "execution_count": 16,
     "metadata": {},
     "output_type": "execute_result"
    }
   ],
   "source": [
    "my_string.find('WORLD')"
   ]
  },
  {
   "cell_type": "markdown",
   "id": "a9233747",
   "metadata": {
    "hideCode": false,
    "hidePrompt": false
   },
   "source": [
    "The `upper` function converts all the string characters to uppercase. This function takes no arguments, but typing parentheses behind the function name is nonetheless required. This is the way to let Python know that the function has to be executed (omitting the parentheses would not generate an error though: it would return the function's memory address, but other than that, nothing would actually happen)."
   ]
  },
  {
   "cell_type": "code",
   "execution_count": 18,
   "id": "8c832638",
   "metadata": {
    "hideCode": false,
    "hidePrompt": false
   },
   "outputs": [
    {
     "name": "stdout",
     "output_type": "stream",
     "text": [
      "Turned into uppercase: HELLO WORLD!\n"
     ]
    }
   ],
   "source": [
    "my_string = my_string.upper()\n",
    "print('Turned into uppercase:', my_string)"
   ]
  },
  {
   "cell_type": "markdown",
   "id": "b2f6f9b6",
   "metadata": {
    "hideCode": false,
    "hidePrompt": false
   },
   "source": [
    "## Sequences\n",
    "\n",
    "### Lists\n",
    "\n",
    "A `list` is a Python data structure that contains a collection of data that can be of any type. It is defined by typing the elements of the list separated by commas and enclosed by square brackets. The following list contains a string, an integer, and a float"
   ]
  },
  {
   "cell_type": "code",
   "execution_count": 19,
   "id": "b20a9b41",
   "metadata": {
    "hideCode": false,
    "hidePrompt": false
   },
   "outputs": [
    {
     "name": "stdout",
     "output_type": "stream",
     "text": [
      "['A string', 0, 2.3]\n"
     ]
    }
   ],
   "source": [
    "alist = ['A string', 0, 2.3]\n",
    "print(alist)"
   ]
  },
  {
   "cell_type": "markdown",
   "id": "17cafd6e",
   "metadata": {
    "hideCode": false,
    "hidePrompt": false
   },
   "source": [
    "Individual items in a list can be accessed by specifying their indices in the list between square brackets. Selecting elements like this is called indexing or slicing. Remember that Python counts using a zero-based system, so the first element in the list has index 0. A range of items can be selected by specifying the first and last index seperated by a colon, as demonstrated in the following example"
   ]
  },
  {
   "cell_type": "code",
   "execution_count": 20,
   "id": "01963991",
   "metadata": {
    "hideCode": false,
    "hidePrompt": false
   },
   "outputs": [
    {
     "name": "stdout",
     "output_type": "stream",
     "text": [
      "A string\n",
      "['A string', 0]\n"
     ]
    }
   ],
   "source": [
    "print(alist[0])\n",
    "print(alist[0:2]) # Returns items 0 and 1, but not item 2"
   ]
  },
  {
   "cell_type": "markdown",
   "id": "f7b76b35",
   "metadata": {
    "hideCode": false,
    "hidePrompt": false
   },
   "source": [
    "Note that the second line only returns items 0 and 1, but not item 2. This is because of the way counting works in Python: It starts at zero and then stops *before* the last number is reached."
   ]
  },
  {
   "cell_type": "markdown",
   "id": "3f817d01",
   "metadata": {
    "hideCode": false,
    "hidePrompt": false
   },
   "source": [
    " The `+` operator can be used to combine two lists"
   ]
  },
  {
   "cell_type": "code",
   "execution_count": 23,
   "id": "b06136b3",
   "metadata": {
    "hideCode": false,
    "hidePrompt": false
   },
   "outputs": [
    {
     "name": "stdout",
     "output_type": "stream",
     "text": [
      "[1, 2, 3, 5, 10, 15]\n"
     ]
    }
   ],
   "source": [
    "a = [1, 2, 3]\n",
    "b = [5, 10, 15]\n",
    "print(a + b)"
   ]
  },
  {
   "cell_type": "markdown",
   "id": "627843cd",
   "metadata": {
    "hideCode": false,
    "hidePrompt": false
   },
   "source": [
    "It is important to note that the use of the `+` sign does not imply an arithmetic operation. The numbers in the lists are not added. If the intent is to add the numbers, the lists must first be converted to `arrays`, which are discussed later on. "
   ]
  },
  {
   "cell_type": "markdown",
   "id": "2eaa6a44",
   "metadata": {
    "hideCode": false,
    "hidePrompt": false
   },
   "source": [
    "A `list` is one of the several basic `sequence` types in Python. Another one is the `tuple`, which, like a `list`, is a sequence of items, but it is defined by enclosing the elements between parentheses rather than square brackets. The difference between a `list` and a `tuple` is that elements in a `tuple` can not be changed after it has been defined."
   ]
  },
  {
   "cell_type": "markdown",
   "id": "fb379025",
   "metadata": {
    "hideCode": false,
    "hidePrompt": false
   },
   "source": [
    "The following code cell defines a `tuple`. The attempt to change its first element results in a `TypeError`"
   ]
  },
  {
   "cell_type": "code",
   "execution_count": 24,
   "id": "25d75bad",
   "metadata": {
    "hideCode": false,
    "hidePrompt": false
   },
   "outputs": [
    {
     "name": "stdout",
     "output_type": "stream",
     "text": [
      "('Darcy', 0, 2.3, [1, 2, 3])\n"
     ]
    },
    {
     "ename": "TypeError",
     "evalue": "'tuple' object does not support item assignment",
     "output_type": "error",
     "traceback": [
      "\u001b[1;31m---------------------------------------------------------------------------\u001b[0m",
      "\u001b[1;31mTypeError\u001b[0m                                 Traceback (most recent call last)",
      "Cell \u001b[1;32mIn[24], line 4\u001b[0m\n\u001b[0;32m      1\u001b[0m atuple \u001b[38;5;241m=\u001b[39m (\u001b[38;5;124m'\u001b[39m\u001b[38;5;124mDarcy\u001b[39m\u001b[38;5;124m'\u001b[39m, \u001b[38;5;241m0\u001b[39m, \u001b[38;5;241m2.3\u001b[39m, [\u001b[38;5;241m1\u001b[39m,\u001b[38;5;241m2\u001b[39m,\u001b[38;5;241m3\u001b[39m])\n\u001b[0;32m      2\u001b[0m \u001b[38;5;28mprint\u001b[39m(atuple)\n\u001b[1;32m----> 4\u001b[0m atuple[\u001b[38;5;241m0\u001b[39m] \u001b[38;5;241m=\u001b[39m \u001b[38;5;124m'\u001b[39m\u001b[38;5;124mDupuit\u001b[39m\u001b[38;5;124m'\u001b[39m\n",
      "\u001b[1;31mTypeError\u001b[0m: 'tuple' object does not support item assignment"
     ]
    }
   ],
   "source": [
    "atuple = ('Darcy', 0, 2.3, [1,2,3])\n",
    "print(atuple)\n",
    "\n",
    "atuple[0] = 'Dupuit'\n",
    "# blist = list(atuple)\n",
    "# blist[0] = 'Dupuit'\n",
    "# print(atuple)"
   ]
  },
  {
   "cell_type": "markdown",
   "id": "e12867cf",
   "metadata": {},
   "source": [
    "A `set` is another sequence type. It is an unordered collection of variables. Like a `tuple` its items cannot be modified. It is defined with curly brackets"
   ]
  },
  {
   "cell_type": "code",
   "execution_count": null,
   "id": "54c46e68",
   "metadata": {},
   "outputs": [],
   "source": [
    "aset = {1, 2, 3}"
   ]
  },
  {
   "cell_type": "markdown",
   "id": "3ffc0ef1",
   "metadata": {},
   "source": [
    "A `set` does not allow duplicate values. This makes it useful to find unique values in another sequence, for example, a `list` with duplicates can be converted to a `set` using the `set()` function"
   ]
  },
  {
   "cell_type": "code",
   "execution_count": null,
   "id": "8534693c",
   "metadata": {},
   "outputs": [
    {
     "data": {
      "text/plain": [
       "{1, 2, 3, 4}"
      ]
     },
     "execution_count": 26,
     "metadata": {},
     "output_type": "execute_result"
    }
   ],
   "source": [
    "list_with_duplicates = [1, 2, 1, 4, 3, 4, 1, 2]\n",
    "set(list_with_duplicates)"
   ]
  },
  {
   "cell_type": "markdown",
   "id": "aa827312",
   "metadata": {},
   "source": [
    "Note that the numbers appear in increasing order but in principle a `set` is unordered."
   ]
  },
  {
   "cell_type": "markdown",
   "id": "6cb1f849",
   "metadata": {},
   "source": [
    "## Dictionaries\n",
    "\n",
    "Another handy data structure in Python is a `dictionary`. Just like a `list` a `dictionary` is a collection of objects, but instead of being accessed by an index, the elements of a `dictionary` are accessible by `keys`. A `dictionary` is defined in the following way"
   ]
  },
  {
   "cell_type": "code",
   "execution_count": 27,
   "id": "21d6b30a",
   "metadata": {},
   "outputs": [],
   "source": [
    "river_lengths = {\n",
    "    'Rhine': 1233, \n",
    "    'Nile': 6690, \n",
    "    'Congo': 4371, \n",
    "    'Ganges': 2510,\n",
    "}"
   ]
  },
  {
   "cell_type": "markdown",
   "id": "e5525c6a",
   "metadata": {},
   "source": [
    "As you can see, the dictionary elements are enclosed by accolades. For each item, the river name is given as the `key` and the river length is the corresponding `value`. The value can be accessed by providing a valid key between square brackets that directly follow the dictionary name, as in the following example"
   ]
  },
  {
   "cell_type": "code",
   "execution_count": 28,
   "id": "c2bf019b",
   "metadata": {},
   "outputs": [
    {
     "data": {
      "text/plain": [
       "1233"
      ]
     },
     "execution_count": 28,
     "metadata": {},
     "output_type": "execute_result"
    }
   ],
   "source": [
    "\n",
    "river_lengths['Rhine']"
   ]
  },
  {
   "cell_type": "markdown",
   "id": "577af29d",
   "metadata": {
    "hideCode": false,
    "hidePrompt": false
   },
   "source": [
    "## Flow control\n",
    "\n",
    "### Loops\n",
    "\n",
    "A `for` loop is a set of programming commands that is executed several times. Here is an example, in which the variable `item` takes on the value of each element in the list `alist` during the for loop. The second, indented line tells Python to print the value as well as the variable type of `item` for each step of the loop"
   ]
  },
  {
   "cell_type": "code",
   "execution_count": null,
   "id": "a83df2e3",
   "metadata": {
    "hideCode": false,
    "hidePrompt": false
   },
   "outputs": [
    {
     "name": "stdout",
     "output_type": "stream",
     "text": [
      "A string has type <class 'str'>\n",
      "This message will be displayed 4 times\n",
      "0 has type <class 'int'>\n",
      "This message will be displayed 4 times\n",
      "2.3 has type <class 'float'>\n",
      "This message will be displayed 4 times\n",
      "True has type <class 'bool'>\n",
      "This message will be displayed 4 times\n",
      "This message will only be displayed once\n"
     ]
    }
   ],
   "source": [
    "alist = ['A string', 0, 2.3]\n",
    "alist.append(True)\n",
    "L = len(alist)\n",
    "for item in alist:\n",
    "    print(item, 'has type', type(item))\n",
    "    print(f\"This message will be displayed {L} times\")\n",
    "\n",
    "print(\"This message will only be displayed once\")"
   ]
  },
  {
   "cell_type": "markdown",
   "id": "2d055597",
   "metadata": {
    "hideCode": false,
    "hidePrompt": false
   },
   "source": [
    "The short code example above shows that there are two syntax rules for defining a `for` loop. First, a colon (`:`) must always terminate the line that starts with `for`, and second, the lines of code that is part of the loop must all be indented. \n",
    "\n",
    "There is no explicit command that marks the end of the code that must be executed during a loop. Instead, Python infers this based on the indentation. Proper indentation is thus essential as it controls the code behaviour. This helps tremendously in creating neat, readable scripts. The length of the indentation is arbitrary, as long as it remains the same; the default is four spaces so use that.\n",
    "\n",
    "Looping over the elements of a list is a very pythonic way of doing things. Programmers using other languages may be used to loops that get executed a certain number of times. This is possible too and is typically done using the `range` command. In the following example `range(4)` creates 4 numbers, from 0 up to (but not including) 4"
   ]
  },
  {
   "cell_type": "code",
   "execution_count": null,
   "id": "41d22618",
   "metadata": {
    "hideCode": false,
    "hidePrompt": false
   },
   "outputs": [
    {
     "name": "stdout",
     "output_type": "stream",
     "text": [
      "Step 0\n",
      "Step 1\n",
      "Step 2\n",
      "Step 3\n"
     ]
    }
   ],
   "source": [
    "for i in range(4):\n",
    "    print(f'Step {i}')"
   ]
  },
  {
   "cell_type": "markdown",
   "id": "f3591589",
   "metadata": {
    "hideCode": false,
    "hidePrompt": false
   },
   "source": [
    "The `range(n)` command creates a sequence with `n` numbers to iterate over, starting at 0. \n",
    "`range` can optionally be defined by specifying a starting value (the default is zero), a step (the default increment is 1). So a `range` starting at `-3` and stopping before the counter reaches `+7` with steps of 2 is defined as"
   ]
  },
  {
   "cell_type": "code",
   "execution_count": null,
   "id": "6ecaf738",
   "metadata": {
    "hideCode": false,
    "hidePrompt": false
   },
   "outputs": [
    {
     "data": {
      "text/plain": [
       "[-3, -1, 1, 3, 5]"
      ]
     },
     "execution_count": 39,
     "metadata": {},
     "output_type": "execute_result"
    }
   ],
   "source": [
    "my_range = range(-3, 7, 2)"
   ]
  },
  {
   "cell_type": "markdown",
   "id": "dc99176a",
   "metadata": {
    "hideCode": false,
    "hidePrompt": false
   },
   "source": [
    "Python also provides the `enumerate` function that generates an index counter as it loops through a list. This can be useful for example when the corresponding items in another list have to be modified during the loop. In the following example, the strings in the list `names` are combined to full names using the strings in the list `last_names`. By including `enumerate()` in the line that starts the `for` loop, a counter `i` is created so that each time the `for` loop steps to the next element in the list `last_names`, `i` is incremented by 1. Notice the syntax: the counter `i` is a user-defined variable name that precedes the name that is used within the `for` loop for the active element in the `list` (`last_name` in this case)."
   ]
  },
  {
   "cell_type": "markdown",
   "id": "ad56ad10",
   "metadata": {},
   "source": [
    "It is also possible to loop over the elements in a dictionary"
   ]
  },
  {
   "cell_type": "code",
   "execution_count": null,
   "id": "af948ee5-c654-4719-8b03-91c60af31103",
   "metadata": {},
   "outputs": [
    {
     "name": "stdout",
     "output_type": "stream",
     "text": [
      "The length of the Rhine river is 1233 km\n",
      "The length of the Nile river is 6690 km\n",
      "The length of the Congo river is 4371 km\n",
      "The length of the Ganges river is 2510 km\n"
     ]
    }
   ],
   "source": [
    "river_lengths = {'Rhine': 1233, 'Nile': 6690, 'Congo': 4371, 'Ganges': 2510}\n",
    "for k, v in river_lengths.items():\n",
    "    print(\"The length of the\", k, \"river is\", v, \"km\")"
   ]
  },
  {
   "cell_type": "markdown",
   "id": "813bd246",
   "metadata": {},
   "source": [
    "or, alternatively"
   ]
  },
  {
   "cell_type": "code",
   "execution_count": null,
   "id": "cd6f688f-3cc4-4ef1-8955-57b5884eabbb",
   "metadata": {},
   "outputs": [
    {
     "name": "stdout",
     "output_type": "stream",
     "text": [
      "The length of the Rhine river is 1233 km\n",
      "The length of the Nile river is 6690 km\n",
      "The length of the Congo river is 4371 km\n",
      "The length of the Ganges river is 2510 km\n"
     ]
    }
   ],
   "source": [
    "for key in river_lengths:\n",
    "    print(\"The length of the\", key, \"river is\", river_lengths[key], \"km\")"
   ]
  },
  {
   "cell_type": "markdown",
   "id": "5471effb",
   "metadata": {
    "hideCode": false,
    "hidePrompt": false
   },
   "source": [
    "### If statements\n",
    "Conditional statements (also called `if` statements) can be used to control the flow of the program depending on whether or not certain conditions are met. Just like with the `for` loop, a colon must be typed at the end of the line starting with `if`, and the lines that must be executed if the evaluated condition is true must be indented. There is no specific command to end the `if` statement, as with `for` loops it is inferred from the indentation.\n",
    "\n",
    "In the next code cell, it is checked if the list `alist` actually contains elements by calling the `len` function (this comes in handy in real programs where a list is generated during runtime and may have a variable number of items, including none when no item got added to it). This function returns the number of items, being zero when the list is empty. If this is the case, the `if` statement causes a message to be printed to the screen"
   ]
  },
  {
   "cell_type": "code",
   "execution_count": null,
   "id": "8ac47147",
   "metadata": {
    "hideCode": false,
    "hidePrompt": false
   },
   "outputs": [
    {
     "name": "stdout",
     "output_type": "stream",
     "text": [
      "alist contains no elements\n"
     ]
    }
   ],
   "source": [
    "alist = [] # Defines an empty list\n",
    "if len(alist) == 0:\n",
    "    print (\"alist contains no elements\")"
   ]
  },
  {
   "cell_type": "markdown",
   "id": "f4a8fd3a",
   "metadata": {
    "hideCode": false,
    "hidePrompt": false
   },
   "source": [
    "Note that a double equal sign is used for the comparison (since a single equal sign is reserved for value assignment). Other comparison operators in Python include the following (note that the comparisons return a boolean variable type, which can be printed to the screen)"
   ]
  },
  {
   "cell_type": "code",
   "execution_count": null,
   "id": "9c943285",
   "metadata": {
    "hideCode": false,
    "hidePrompt": false
   },
   "outputs": [
    {
     "name": "stdout",
     "output_type": "stream",
     "text": [
      "True\n",
      "True\n",
      "True\n",
      "False\n"
     ]
    }
   ],
   "source": [
    "a = 4\n",
    "print(a <= 4) # a is smaller than or equal to 4\n",
    "print(a == 4) # a is equal to 4.\n",
    "print(a >= 4) # a is larger than or equal to 4\n",
    "print(a != 4) # a is not equal to 4"
   ]
  },
  {
   "cell_type": "markdown",
   "id": "99db98f1",
   "metadata": {
    "hideCode": false,
    "hidePrompt": false
   },
   "source": [
    "In the following code example, the `if` statement is placed inside a `for` loop to determine what message is printed to the screen. The message varies according to the value of the loop variable `i`. The `if` statement now also includes the `elif` and `else` commands (note how the indentation works), which specify what needs to happen depending on whether a condition is met or not. "
   ]
  },
  {
   "cell_type": "code",
   "execution_count": null,
   "id": "e94afd6e",
   "metadata": {
    "hideCode": false,
    "hidePrompt": false,
    "scrolled": true
   },
   "outputs": [
    {
     "name": "stdout",
     "output_type": "stream",
     "text": [
      "-3 is negative\n",
      "-2 is negative\n",
      "-1 is negative\n",
      "0 is zero\n",
      "1 is positive\n",
      "2 is positive\n"
     ]
    }
   ],
   "source": [
    "for i in range(-3, 3):\n",
    "    if i < 0:\n",
    "        print(i, 'is negative')\n",
    "    elif i == 0:\n",
    "        print(i, 'is zero')\n",
    "    else:\n",
    "        print(i, 'is positive')"
   ]
  },
  {
   "cell_type": "markdown",
   "id": "0d3d0dcc",
   "metadata": {},
   "source": [
    "## NumPy\n",
    "\n",
    "The following line imports the `numpy` package and renames it to `np` (the default short name used by essentially everyone)"
   ]
  },
  {
   "cell_type": "code",
   "execution_count": 29,
   "id": "58f07b18",
   "metadata": {
    "hideCode": false,
    "hidePrompt": false
   },
   "outputs": [],
   "source": [
    "import numpy as np"
   ]
  },
  {
   "cell_type": "markdown",
   "id": "4dcd7435",
   "metadata": {},
   "source": [
    "### Creating arrays\n",
    "\n",
    "There are multiple ways to create an array. For example, a `list` can be converted to a `numpy` `array` with the `np.array()` command. "
   ]
  },
  {
   "cell_type": "code",
   "execution_count": null,
   "id": "70077881",
   "metadata": {
    "hideCode": false,
    "hidePrompt": false
   },
   "outputs": [
    {
     "name": "stdout",
     "output_type": "stream",
     "text": [
      "[1 2 3 4]\n",
      "<class 'numpy.ndarray'>\n"
     ]
    }
   ],
   "source": [
    "a = np.array([1, 2, 3, 4])\n",
    "print(a)\n",
    "print(type(a))"
   ]
  },
  {
   "cell_type": "markdown",
   "id": "931f8fbf",
   "metadata": {
    "hideCode": false,
    "hidePrompt": false
   },
   "source": [
    "The `type` function shows that the array is defined within the `numpy` package as an `ndarray`, which stands for n-dimensional array. All elements within such an array have the same variable type (remember that a `list` can contain items of different variable types).\n",
    "\n",
    "A two-dimensional array can be thought of as a matrix with rows and columns. It can be created by entering a list of rows, where each row is again a list that contains the values for that row. Care must be taken that each of the lists has the same number of elements (equal to the number of columns). When the array is printed to the screen, each row is on a separate line and the columns are separated by a space"
   ]
  },
  {
   "cell_type": "code",
   "execution_count": 31,
   "id": "84bac7be",
   "metadata": {
    "hideCode": false,
    "hidePrompt": false
   },
   "outputs": [
    {
     "name": "stdout",
     "output_type": "stream",
     "text": [
      "[[ 0  1  2  3]\n",
      " [ 4  5  6  7]\n",
      " [ 8  9 10 11]]\n"
     ]
    }
   ],
   "source": [
    "A = np.array([[0, 1, 2, 3], [4, 5, 6, 7], [8, 9, 10, 11]])\n",
    "print(A)"
   ]
  },
  {
   "cell_type": "markdown",
   "id": "c7c7463e",
   "metadata": {
    "hideCode": false,
    "hidePrompt": false
   },
   "source": [
    "The shape of an array can be obtained by calling the `shape` function. For a two-dimensional array it returns the number of rows and columns"
   ]
  },
  {
   "cell_type": "code",
   "execution_count": 32,
   "id": "0bd2d33b",
   "metadata": {
    "hideCode": false,
    "hidePrompt": false
   },
   "outputs": [
    {
     "data": {
      "text/plain": [
       "(3, 4)"
      ]
     },
     "execution_count": 32,
     "metadata": {},
     "output_type": "execute_result"
    }
   ],
   "source": [
    "np.shape(A)"
   ]
  },
  {
   "cell_type": "markdown",
   "id": "1f0a42d2",
   "metadata": {
    "hideCode": false,
    "hidePrompt": false
   },
   "source": [
    "Functions that work for individual numbers can also be used on arrays, for example `numpy`'s `sqrt` function"
   ]
  },
  {
   "cell_type": "code",
   "execution_count": 35,
   "id": "0bd3d295",
   "metadata": {
    "hideCode": false,
    "hidePrompt": false
   },
   "outputs": [
    {
     "data": {
      "text/plain": [
       "array([[0.        , 1.        , 1.41421356, 1.73205081],\n",
       "       [2.        , 2.23606798, 2.44948974, 2.64575131],\n",
       "       [2.82842712, 3.        , 3.16227766, 3.31662479]])"
      ]
     },
     "execution_count": 35,
     "metadata": {},
     "output_type": "execute_result"
    }
   ],
   "source": [
    "np.sqrt(A)"
   ]
  },
  {
   "cell_type": "markdown",
   "id": "c031d8d0",
   "metadata": {
    "hideCode": false,
    "hidePrompt": false
   },
   "source": [
    "Arithmetic operators can also be be used with arrays. The following code defines an array `b` and multiplies the arrays `a` and `b` element by element"
   ]
  },
  {
   "cell_type": "code",
   "execution_count": 36,
   "id": "1f244642",
   "metadata": {
    "hideCode": false,
    "hidePrompt": false
   },
   "outputs": [
    {
     "data": {
      "text/plain": [
       "array([ 2,  4,  9, 12])"
      ]
     },
     "execution_count": 36,
     "metadata": {},
     "output_type": "execute_result"
    }
   ],
   "source": [
    "a = np.array([1, 2, 3, 4])\n",
    "b = np.array([2, 2, 3, 3])\n",
    "a * b"
   ]
  },
  {
   "cell_type": "markdown",
   "id": "f622b57f",
   "metadata": {
    "hideCode": false,
    "hidePrompt": false
   },
   "source": [
    "Those working with matrices might have expected a different outcome: The dot product. The dot product of arrays `a` and `b` of length `N` (i.e., $\\sum_{n=1}^N a_nb_n$) is obtained by using the `@` operator"
   ]
  },
  {
   "cell_type": "code",
   "execution_count": null,
   "id": "9fa33cfd",
   "metadata": {
    "hideCode": false,
    "hidePrompt": false
   },
   "outputs": [
    {
     "data": {
      "text/plain": [
       "27"
      ]
     },
     "execution_count": 9,
     "metadata": {},
     "output_type": "execute_result"
    }
   ],
   "source": [
    "a @ b # Or, alternatively: np.dot(a, b)"
   ]
  },
  {
   "cell_type": "markdown",
   "id": "19e825b0",
   "metadata": {
    "hideCode": false,
    "hidePrompt": false
   },
   "source": [
    "## Matplotlib\n",
    "\n",
    "\n",
    "Most of `matplotlib`'s plotting capabilities are available in the subpackage `pyplot`, which is commonly renamed as `plt` when imported. All figures can be included inline in a notebook (rather than in a separate window) with the IPython magic command `%matplotlib inline`. IPython `magic commands` are preceded with a `%`. They are not standard Python commands and only work within IPython environments."
   ]
  },
  {
   "cell_type": "code",
   "execution_count": 37,
   "id": "1518c68b",
   "metadata": {
    "hideCode": false,
    "hidePrompt": false
   },
   "outputs": [],
   "source": [
    "%matplotlib inline\n",
    "import matplotlib.pyplot as plt"
   ]
  },
  {
   "cell_type": "markdown",
   "id": "6c1b5809",
   "metadata": {
    "hideCode": false,
    "hidePrompt": false
   },
   "source": [
    "The following lines of code compute $\\sin(x)$ for 100 values of $x$ between 0 and $2 \\pi$, and then plot $\\sin(x)$ vs. $x$"
   ]
  },
  {
   "cell_type": "code",
   "execution_count": 45,
   "id": "985d4674",
   "metadata": {
    "hideCode": false,
    "hidePrompt": false
   },
   "outputs": [
    {
     "data": {
      "image/png": "[encoded data removed]",
      "text/plain": [
       "<Figure size 640x480 with 1 Axes>"
      ]
     },
     "metadata": {},
     "output_type": "display_data"
    }
   ],
   "source": [
    "x = np.linspace(0, 2 * np.pi, 100) # Creates an array with 100 elements ranging from 0 to pi\n",
    "y = np.sin(x)\n",
    "plt.plot(x, y);"
   ]
  },
  {
   "cell_type": "markdown",
   "id": "d8a98a37",
   "metadata": {
    "hideCode": false,
    "hidePrompt": false
   },
   "source": [
    "The plot function has many, many options, as may be seen from the documentation. \n",
    "A more complex graph with multiple lines, labels along the axes, and a legend is shown below. `matplotlib` uses a different color for each line that is plotted. The default colors are called `C0`, `C1`, `C2`, etc. Alternatively, a different color can be specified. "
   ]
  },
  {
   "cell_type": "code",
   "execution_count": 48,
   "id": "1318ca86",
   "metadata": {
    "hideCode": false,
    "hidePrompt": false
   },
   "outputs": [
    {
     "data": {
      "image/png": "[encoded data removed]",
      "text/plain": [
       "<Figure size 640x480 with 1 Axes>"
      ]
     },
     "metadata": {},
     "output_type": "display_data"
    }
   ],
   "source": [
    "y1 = np.cos(x)\n",
    "plt.plot(x, y, label='sine of x')  # plotted with default color C0 (= blue)\n",
    "plt.plot(x, y1, linestyle='none', marker='.', color='g', label='cosine of x')  # plotted with default color C0 (= blue)\n",
    "plt.xlabel('x-axis')\n",
    "plt.ylabel('y-axis')\n",
    "plt.legend(loc='best'); # selects best spot for legend unless loc is specified"
   ]
  },
  {
   "cell_type": "code",
   "execution_count": null,
   "id": "1c037082",
   "metadata": {},
   "outputs": [],
   "source": []
  }
 ],
 "metadata": {
  "celltoolbar": "Tags",
  "hide_code_all_hidden": false,
  "kernelspec": {
   "display_name": "Python 3 (ipykernel)",
   "language": "python",
   "name": "python3"
  },
  "language_info": {
   "codemirror_mode": {
    "name": "ipython",
    "version": 3
   },
   "file_extension": ".py",
   "mimetype": "text/x-python",
   "name": "python",
   "nbconvert_exporter": "python",
   "pygments_lexer": "ipython3",
   "version": "3.11.4"
  },
  "latex_envs": {
   "LaTeX_envs_menu_present": true,
   "autoclose": false,
   "autocomplete": true,
   "bibliofile": "biblio.bib",
   "cite_by": "apalike",
   "current_citInitial": 1,
   "eqLabelWithNumbers": true,
   "eqNumInitial": 1,
   "hotkeys": {
    "equation": "Ctrl-E",
    "itemize": "Ctrl-I"
   },
   "labels_anchors": false,
   "latex_user_defs": false,
   "report_style_numbering": false,
   "user_envs_cfg": false
  },
  "name": "_merged_merged_merged"
 },
 "nbformat": 4,
 "nbformat_minor": 5
}
